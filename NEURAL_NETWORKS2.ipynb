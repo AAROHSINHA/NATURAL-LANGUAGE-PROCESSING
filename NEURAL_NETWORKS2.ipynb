{
  "nbformat": 4,
  "nbformat_minor": 0,
  "metadata": {
    "colab": {
      "provenance": [],
      "gpuType": "T4"
    },
    "kernelspec": {
      "name": "python3",
      "display_name": "Python 3"
    },
    "language_info": {
      "name": "python"
    },
    "accelerator": "GPU"
  },
  "cells": [
    {
      "cell_type": "markdown",
      "source": [
        "# ***CIFAR-100 PYTHON DATASET***\n",
        "> ***We'll try to put on this data on a FEEDFORWARD neural network first before a CNN to see how the results come out!***"
      ],
      "metadata": {
        "id": "lFe11ZI_cPkt"
      }
    },
    {
      "cell_type": "code",
      "source": [
        "from datetime import datetime\n",
        "now = datetime.now()\n",
        "formatted = now.strftime(\"%Y-%m-%d %H:%M:%S\")\n",
        "print(\"This notebook was last run on - :\", formatted)"
      ],
      "metadata": {
        "colab": {
          "base_uri": "https://localhost:8080/"
        },
        "id": "OCVnYreRemOf",
        "outputId": "0656f371-e3ab-4824-b9bc-5739a97280fc"
      },
      "execution_count": 1,
      "outputs": [
        {
          "output_type": "stream",
          "name": "stdout",
          "text": [
            "This notebook was last run on - : 2025-08-13 19:07:01\n"
          ]
        }
      ]
    },
    {
      "cell_type": "markdown",
      "source": [
        "## **LOADING THE DATASET**"
      ],
      "metadata": {
        "id": "fgUKon-Rga-c"
      }
    },
    {
      "cell_type": "code",
      "source": [],
      "metadata": {
        "id": "eb6tF5jz1DBh"
      },
      "execution_count": null,
      "outputs": []
    },
    {
      "cell_type": "code",
      "source": [
        "import torch\n",
        "from torchvision import datasets, transforms\n",
        "from torch.utils.data import DataLoader\n",
        "import matplotlib.pyplot as plt\n",
        "%matplotlib inline"
      ],
      "metadata": {
        "id": "jeB_rbd-ew_S"
      },
      "execution_count": 2,
      "outputs": []
    },
    {
      "cell_type": "code",
      "source": [
        "# First converting them to tensors\n",
        "transform_to_tensor = transforms.ToTensor()\n",
        "\n",
        "# Loading the train dataset\n",
        "train_dataset = datasets.CIFAR10(root=\"./data\",\n",
        "                                 train=True,\n",
        "                                 download=True,\n",
        "                                 transform=transform_to_tensor)\n",
        "# Loading the test dataset\n",
        "test_dataset = datasets.CIFAR10(root=\"./data\",\n",
        "                                train=False,\n",
        "                                download=True,\n",
        "                                transform=transform_to_tensor)"
      ],
      "metadata": {
        "colab": {
          "base_uri": "https://localhost:8080/"
        },
        "id": "vqi7uTOJfAZz",
        "outputId": "22da966f-e02d-4579-a483-6f4a46496830"
      },
      "execution_count": 3,
      "outputs": [
        {
          "output_type": "stream",
          "name": "stderr",
          "text": [
            "100%|██████████| 170M/170M [00:08<00:00, 20.3MB/s]\n"
          ]
        }
      ]
    },
    {
      "cell_type": "code",
      "source": [
        "train_dataset"
      ],
      "metadata": {
        "colab": {
          "base_uri": "https://localhost:8080/"
        },
        "id": "sWeBPpk1gQ5x",
        "outputId": "4cbeb2ff-11ef-4d33-cb8c-e948a0b7b8ba"
      },
      "execution_count": 4,
      "outputs": [
        {
          "output_type": "execute_result",
          "data": {
            "text/plain": [
              "Dataset CIFAR10\n",
              "    Number of datapoints: 50000\n",
              "    Root location: ./data\n",
              "    Split: Train\n",
              "    StandardTransform\n",
              "Transform: ToTensor()"
            ]
          },
          "metadata": {},
          "execution_count": 4
        }
      ]
    },
    {
      "cell_type": "code",
      "source": [
        "test_dataset"
      ],
      "metadata": {
        "colab": {
          "base_uri": "https://localhost:8080/"
        },
        "id": "dEMAS7MlgSUa",
        "outputId": "7583f332-f263-4ed8-93ec-800b41975bf9"
      },
      "execution_count": 5,
      "outputs": [
        {
          "output_type": "execute_result",
          "data": {
            "text/plain": [
              "Dataset CIFAR10\n",
              "    Number of datapoints: 10000\n",
              "    Root location: ./data\n",
              "    Split: Test\n",
              "    StandardTransform\n",
              "Transform: ToTensor()"
            ]
          },
          "metadata": {},
          "execution_count": 5
        }
      ]
    },
    {
      "cell_type": "markdown",
      "source": [
        "## **VISUALIZING THE DATASET**"
      ],
      "metadata": {
        "id": "8NHtIjxEgTND"
      }
    },
    {
      "cell_type": "code",
      "source": [
        "def show_samples(dataset=train_dataset, num_samples=6):\n",
        "    data_loader = DataLoader(dataset, batch_size=num_samples * 3, shuffle=True)  # 18 images total\n",
        "    data_loaded, labels_loaded = next(iter(data_loader))\n",
        "\n",
        "    plt.figure(figsize=(12, 9))\n",
        "    for idx in range(num_samples * 3):\n",
        "        plt.subplot(3, num_samples, idx + 1)\n",
        "        plt.imshow(data_loaded[idx][0])\n",
        "        plt.title(f\"Label: {labels_loaded[idx].item()}\", fontsize=10)\n",
        "        plt.axis(\"off\")\n",
        "    plt.tight_layout()\n",
        "    plt.show()\n",
        "\n",
        "show_samples()\n"
      ],
      "metadata": {
        "colab": {
          "base_uri": "https://localhost:8080/",
          "height": 794
        },
        "id": "METb9RfSgf2n",
        "outputId": "41246529-5a53-490c-b294-d4efb0421569"
      },
      "execution_count": 6,
      "outputs": [
        {
          "output_type": "display_data",
          "data": {
            "text/plain": [
              "<Figure size 1200x900 with 18 Axes>"
            ],
            "image/png": "[encoded data removed]"
          },
          "metadata": {}
        }
      ]
    },
    {
      "cell_type": "markdown",
      "source": [
        "## **MODELLING ON DATA**"
      ],
      "metadata": {
        "id": "Ul3MVHXji9Z0"
      }
    },
    {
      "cell_type": "code",
      "source": [
        "batch_size = 32\n",
        "train_loader = DataLoader(train_dataset, batch_size, shuffle=True)\n",
        "test_loader = DataLoader(test_dataset, batch_size, shuffle=True)\n",
        "print(f\"The length of train - {len(train_loader)*batch_size} and that of test - {len(test_loader)*batch_size}\")"
      ],
      "metadata": {
        "colab": {
          "base_uri": "https://localhost:8080/"
        },
        "id": "H4xboGc2hWhv",
        "outputId": "44ff5da8-dfec-4022-d5cf-f870a2a7ef27"
      },
      "execution_count": 7,
      "outputs": [
        {
          "output_type": "stream",
          "name": "stdout",
          "text": [
            "The length of train - 50016 and that of test - 10016\n"
          ]
        }
      ]
    },
    {
      "cell_type": "code",
      "source": [
        "num_labels = len(train_dataset.classes)\n",
        "labels_list = train_dataset.classes\n",
        "\n",
        "print(\"Number of labels:\", num_labels)\n",
        "print(\"Labels:\", labels_list)"
      ],
      "metadata": {
        "colab": {
          "base_uri": "https://localhost:8080/"
        },
        "id": "GwaRfJy3pxnf",
        "outputId": "ddcf28d5-54c3-496f-8465-575587e0bc21"
      },
      "execution_count": 8,
      "outputs": [
        {
          "output_type": "stream",
          "name": "stdout",
          "text": [
            "Number of labels: 10\n",
            "Labels: ['airplane', 'automobile', 'bird', 'cat', 'deer', 'dog', 'frog', 'horse', 'ship', 'truck']\n"
          ]
        }
      ]
    },
    {
      "cell_type": "markdown",
      "source": [
        "### ***MODEL 0 - BASELINE FEEDFORWARD NEURAL NETWORK MODEL***\n",
        "**PYTORCH NEURAL NETWORK / GRAPH WORKFLOW**\n",
        "1. First we define the model class. This is just the model. Then further we can instantiate the model objects.\n",
        "2. After that we set up the optimizers and the loss function.\n",
        "3. We also setup the accuracy calculation function.\n",
        "4. The above 2 functions we made are used in our custom made training loop. After defining the model we need to define it's training loop separately to preserve `PYTORCH WORKFLOW / MODULARITY / CLARITY`\n",
        "5. Same we do for the testing loop.\n",
        "6. Now the training and testing loop is only defined, we then run them for `n` epochs. We do something like train -> test -> train -> test ..... so as to `TRACK PROGRESS / EARLY STOPPING IF REQUIRED / HYPERPARAMETER TUNING`.\n",
        "7. And hence our model becomes completely ready."
      ],
      "metadata": {
        "id": "QqUrcGmWhYCY"
      }
    },
    {
      "cell_type": "markdown",
      "source": [
        "**CODE EXPLANATION:**\n",
        "1. `class NeuralNetwork(nn.Module)` - We create a NeuralNetwork class which inherits from nn.Module - the base class for neural networks\n",
        "2. `super(<className>, self).__init__()` - This line initializes the parent class (nn.Module). It's required to make the custom model work with PyTorch internals like .parameters(), .to(), .eval() etc.\n",
        "3. `self.hiddenLayer1 = nn.Linear(28*28, 512)` - This creates a fully connected (dense) layer that maps a 784-dimensional input (28×28) to a 512-dimensional hidden layer.\n",
        "> Input image → flatten → feed 784 numbers → 512 output values from neurons\n",
        "4. `self.outputLayer = nn.Linear(512, 10)` - This maps the 512 hidden features to 10 output neurons, each representing a digit (0–9). So the final output is a logit vector of size 10.\n",
        "5. `X = X.view(-1, 28*28)` - This flattens the 2D image (shape [batch_size, 1, 28, 28]) into a 1D vector [batch_size, 784]. The -1 lets PyTorch infer the batch size dynamically. ***nn expects 1D vectors not 2D images***\n",
        "6. `X = nn.functional.relu(self.hiddenLayer1(X))` - Here we insert the value we get from the hidden layers into the hidden layer activation functions. In this case relu\n",
        "7. `X = self.outputLayer(X)` - No activation applied right now as output activations like softmax or sigmoid are often added during loss computation"
      ],
      "metadata": {
        "id": "K9xPQaWfnCi1"
      }
    },
    {
      "cell_type": "code",
      "source": [
        "import torch.nn as nn\n",
        "import torch.nn.functional as F\n",
        "import torch.optim as optim"
      ],
      "metadata": {
        "id": "WsVEvVDZo3Wx"
      },
      "execution_count": 9,
      "outputs": []
    },
    {
      "cell_type": "code",
      "source": [
        "## Let's build the model\n",
        "torch.manual_seed(42)\n",
        "input_size = 3*32*32 # 3 channel rgb\n",
        "hidden_layer_neurons1 = 528\n",
        "hidden_layer_neurons2 = 256\n",
        "hidden_layer_neurons3 = 724\n",
        "num_classes = 10\n",
        "\n",
        "class NeuralNetwork1(nn.Module):\n",
        "  def __init__(self):\n",
        "    super(NeuralNetwork1, self).__init__()\n",
        "    # These are just the preactivation functions\n",
        "    # Activation for hidden happens in forward() and output happens in training loop\n",
        "    self.hiddenLayer1 = nn.Linear(input_size, hidden_layer_neurons1)\n",
        "    self.hiddenLayer2 = nn.Linear(hidden_layer_neurons1, hidden_layer_neurons2)\n",
        "    self.hiddenLayer3 = nn.Linear(hidden_layer_neurons2, hidden_layer_neurons3)\n",
        "    self.outputLayer = nn.Linear(hidden_layer_neurons3, num_classes)\n",
        "\n",
        "  def forward(self, X):\n",
        "    X = X.view(-1, input_size) # flattens into [.....]\n",
        "    X = nn.functional.relu(self.hiddenLayer1(X))\n",
        "    X = nn.functional.relu(self.hiddenLayer2(X))\n",
        "    X = nn.functional.relu(self.hiddenLayer3(X))\n",
        "    X = self.outputLayer(X) # these are raw logits no activation\n",
        "    return X\n",
        "\n"
      ],
      "metadata": {
        "id": "3V0ylgQ0ojuG"
      },
      "execution_count": 10,
      "outputs": []
    },
    {
      "cell_type": "code",
      "source": [
        "device = torch.device(\"cuda\" if torch.cuda.is_available() else \"cpu\")\n",
        "model = NeuralNetwork1().to(device)\n",
        "# Instantiates our model and moves the model params to the device (gpu/cpu)\n",
        "# If we forget the .to(device), we stay on cpu anyhow"
      ],
      "metadata": {
        "id": "MNXbM17aqz2x"
      },
      "execution_count": 11,
      "outputs": []
    },
    {
      "cell_type": "markdown",
      "source": [
        "**OPTIMIZER AND LOSS FUNCTION**\n",
        "* Optimizer we use is the normal SGD. There are relatively better ones too...but this is also quiet powerful. Let's use this for the baseline model only!\n",
        "* Loss Function is what we we put our logits in. The raw logits the output gives us. We use CrossEntropy.\n",
        "* The CrossEntropy by default uses Softmax First to convert to probability and then by CorssEntropy formula calculates the loss."
      ],
      "metadata": {
        "id": "YTuLCXA2qvh3"
      }
    },
    {
      "cell_type": "code",
      "source": [
        "import torch.optim as optim\n",
        "\n",
        "learning_rate = 0.001\n",
        "criterion = nn.CrossEntropyLoss()\n",
        "optimizer = optim.SGD(model.parameters(), lr=learning_rate)\n"
      ],
      "metadata": {
        "id": "-uA1jISjrZ1i"
      },
      "execution_count": 39,
      "outputs": []
    },
    {
      "cell_type": "markdown",
      "source": [
        "**ACCURACY FUNCTION**"
      ],
      "metadata": {
        "id": "5Xxo3Dg5rqlk"
      }
    },
    {
      "cell_type": "code",
      "source": [
        "def accuracy(outputs, labels):\n",
        "  _, preds = torch.max(outputs, 1)\n",
        "  return torch.sum(preds == labels).item() / len(labels)"
      ],
      "metadata": {
        "id": "w-Zw61bvrt9I"
      },
      "execution_count": 40,
      "outputs": []
    },
    {
      "cell_type": "markdown",
      "source": [
        "**TRAINING LOOP - EXPLANATION**"
      ],
      "metadata": {
        "id": "HWIebYsIruMR"
      }
    },
    {
      "cell_type": "markdown",
      "source": [
        "1. `model.train()` -> Basically puts the model in training model. Doesn't train the model. But just tells the model *'Hey we are gonna learn some stuff right now'*.\n",
        "2. `for loop()` -> We iterate through each sample of the training data. This will be dont for n epochs later.\n",
        "3. `optimizer.zero_grad()` -> Basically clears the backward derivatives in each cycle else they start accumulating.\n",
        "4. `outputs` -> We calculate the output. This is for each separate image.\n",
        "5. `loss and loss.backward()` -> This will calculate the los and then gradients using backpropogation.\n",
        "6. `optmizer.step()` -> Updates the model params in backpropogation."
      ],
      "metadata": {
        "id": "OPeKiXIUvd96"
      }
    },
    {
      "cell_type": "code",
      "source": [
        "model_training_losses = []\n",
        "model_training_accuracy = []\n",
        "\n",
        "def train(model, device, train_dataset, criterion, optimizer, epoch, show_res=False):\n",
        "  model.train()\n",
        "  training_loss = 0.0\n",
        "  training_accuracy = 0.0\n",
        "  for i, (inputs, labels) in enumerate(train_dataset):\n",
        "    inputs, labels = inputs.to(device), labels.to(device) # Moves data labels to GPU if available else CPU\n",
        "    optimizer.zero_grad()\n",
        "    outputs = model(inputs)\n",
        "    loss = criterion(outputs, labels)\n",
        "    loss.backward() # Computes gradients of loss w.r.t. each model parameter using backpropagation.\n",
        "    optimizer.step()  # Actually updates the model parameters using those gradients (based on optimizer rules like SGD).\n",
        "\n",
        "    training_loss += loss.item()\n",
        "    training_accuracy += accuracy(outputs, labels)\n",
        "    if (i + 1)%1000 == 0:\n",
        "      if show_res:\n",
        "        print(f'Epoch {epoch}, Batch {i+1}, Loss: {training_loss / 1000:.4f}, Accuracy: {training_accuracy / 1000:.4f}')\n",
        "  total_batches = len(train_dataset)\n",
        "  avg_epoch_loss = training_loss / total_batches\n",
        "  avg_epoch_acc = training_accuracy / total_batches\n",
        "\n",
        "  model_training_losses.append(avg_epoch_loss)\n",
        "  model_training_accuracy.append(avg_epoch_acc)\n"
      ],
      "metadata": {
        "id": "NE0t5xOjs3Fn"
      },
      "execution_count": 41,
      "outputs": []
    },
    {
      "cell_type": "markdown",
      "source": [
        "**TESTING LOOP - EXPLANATION**\n",
        "1. `model.eval()` -> Just like model.train() puts the model in evaluation/testing mode.\n",
        "2. `with torch.no_grad()` -> The torch.no_grad() is a PyTorch context manager that temporarily disables gradient calculation for all operations executed inside its block.\n"
      ],
      "metadata": {
        "id": "8MqqCFqmzmbr"
      }
    },
    {
      "cell_type": "code",
      "source": [
        "model_testing_losses = []\n",
        "model_testing_accuracy = []\n",
        "\n",
        "def test(model, device, test_loader, criterion, show_res=False):\n",
        "    model.eval()\n",
        "    test_loss = 0.0\n",
        "    test_accuracy = 0.0\n",
        "    total_batches = len(test_loader)\n",
        "\n",
        "    with torch.no_grad():\n",
        "        for inputs, labels in test_loader:\n",
        "            inputs, labels = inputs.to(device), labels.to(device)\n",
        "            outputs = model(inputs)\n",
        "            loss = criterion(outputs, labels)\n",
        "\n",
        "            test_loss += loss.item()\n",
        "            test_accuracy += accuracy(outputs, labels)\n",
        "\n",
        "    avg_test_loss = test_loss / total_batches\n",
        "    avg_test_acc = test_accuracy / total_batches\n",
        "\n",
        "    if show_res:\n",
        "        print(f'Test Loss: {avg_test_loss:.4f}, Test Accuracy: {avg_test_acc:.4f}')\n",
        "\n",
        "    model_testing_losses.append(avg_test_loss)\n",
        "    model_testing_accuracy.append(avg_test_acc)\n"
      ],
      "metadata": {
        "id": "-bfc61dExbU-"
      },
      "execution_count": 42,
      "outputs": []
    },
    {
      "cell_type": "code",
      "source": [
        "num_epochs = 30\n",
        "for epoch in range(1, num_epochs + 1):\n",
        "    train(model, device, train_loader, criterion, optimizer, epoch, show_res=True)\n",
        "    test(model, device, test_loader, criterion, show_res=True)"
      ],
      "metadata": {
        "colab": {
          "base_uri": "https://localhost:8080/"
        },
        "id": "NLxlMZIbxsc1",
        "outputId": "d15d2d19-bf4e-4c15-a0da-dc0af6a0d7ae"
      },
      "execution_count": 49,
      "outputs": [
        {
          "output_type": "stream",
          "name": "stdout",
          "text": [
            "Epoch 1, Batch 1000, Loss: 0.9588, Accuracy: 0.6613\n",
            "Test Loss: 1.2559, Test Accuracy: 0.5616\n",
            "Epoch 2, Batch 1000, Loss: 0.9591, Accuracy: 0.6633\n",
            "Test Loss: 1.2529, Test Accuracy: 0.5637\n",
            "Epoch 3, Batch 1000, Loss: 0.9526, Accuracy: 0.6642\n",
            "Test Loss: 1.2614, Test Accuracy: 0.5572\n",
            "Epoch 4, Batch 1000, Loss: 0.9483, Accuracy: 0.6670\n",
            "Test Loss: 1.2550, Test Accuracy: 0.5638\n",
            "Epoch 5, Batch 1000, Loss: 0.9436, Accuracy: 0.6690\n",
            "Test Loss: 1.2581, Test Accuracy: 0.5600\n",
            "Epoch 6, Batch 1000, Loss: 0.9434, Accuracy: 0.6679\n",
            "Test Loss: 1.2649, Test Accuracy: 0.5584\n",
            "Epoch 7, Batch 1000, Loss: 0.9356, Accuracy: 0.6715\n",
            "Test Loss: 1.2700, Test Accuracy: 0.5627\n",
            "Epoch 8, Batch 1000, Loss: 0.9358, Accuracy: 0.6723\n",
            "Test Loss: 1.2670, Test Accuracy: 0.5579\n",
            "Epoch 9, Batch 1000, Loss: 0.9275, Accuracy: 0.6738\n",
            "Test Loss: 1.2572, Test Accuracy: 0.5619\n",
            "Epoch 10, Batch 1000, Loss: 0.9242, Accuracy: 0.6773\n",
            "Test Loss: 1.2766, Test Accuracy: 0.5585\n",
            "Epoch 11, Batch 1000, Loss: 0.9202, Accuracy: 0.6788\n",
            "Test Loss: 1.2802, Test Accuracy: 0.5562\n",
            "Epoch 12, Batch 1000, Loss: 0.9151, Accuracy: 0.6793\n",
            "Test Loss: 1.2609, Test Accuracy: 0.5619\n",
            "Epoch 13, Batch 1000, Loss: 0.9080, Accuracy: 0.6822\n",
            "Test Loss: 1.2595, Test Accuracy: 0.5641\n",
            "Epoch 14, Batch 1000, Loss: 0.9019, Accuracy: 0.6845\n",
            "Test Loss: 1.2623, Test Accuracy: 0.5608\n",
            "Epoch 15, Batch 1000, Loss: 0.8994, Accuracy: 0.6842\n",
            "Test Loss: 1.2846, Test Accuracy: 0.5593\n",
            "Epoch 16, Batch 1000, Loss: 0.8939, Accuracy: 0.6869\n",
            "Test Loss: 1.2662, Test Accuracy: 0.5638\n",
            "Epoch 17, Batch 1000, Loss: 0.8950, Accuracy: 0.6843\n",
            "Test Loss: 1.2692, Test Accuracy: 0.5583\n",
            "Epoch 18, Batch 1000, Loss: 0.8819, Accuracy: 0.6928\n",
            "Test Loss: 1.2718, Test Accuracy: 0.5664\n",
            "Epoch 19, Batch 1000, Loss: 0.8834, Accuracy: 0.6909\n",
            "Test Loss: 1.2723, Test Accuracy: 0.5613\n",
            "Epoch 20, Batch 1000, Loss: 0.8787, Accuracy: 0.6917\n",
            "Test Loss: 1.2743, Test Accuracy: 0.5589\n",
            "Epoch 21, Batch 1000, Loss: 0.8708, Accuracy: 0.6945\n",
            "Test Loss: 1.2789, Test Accuracy: 0.5603\n",
            "Epoch 22, Batch 1000, Loss: 0.8690, Accuracy: 0.6990\n",
            "Test Loss: 1.2716, Test Accuracy: 0.5613\n",
            "Epoch 23, Batch 1000, Loss: 0.8652, Accuracy: 0.6970\n",
            "Test Loss: 1.2875, Test Accuracy: 0.5598\n",
            "Epoch 24, Batch 1000, Loss: 0.8616, Accuracy: 0.6995\n",
            "Test Loss: 1.2710, Test Accuracy: 0.5650\n",
            "Epoch 25, Batch 1000, Loss: 0.8553, Accuracy: 0.7012\n",
            "Test Loss: 1.2994, Test Accuracy: 0.5595\n",
            "Epoch 26, Batch 1000, Loss: 0.8483, Accuracy: 0.7056\n",
            "Test Loss: 1.2760, Test Accuracy: 0.5594\n",
            "Epoch 27, Batch 1000, Loss: 0.8470, Accuracy: 0.7041\n",
            "Test Loss: 1.2953, Test Accuracy: 0.5586\n",
            "Epoch 28, Batch 1000, Loss: 0.8405, Accuracy: 0.7056\n",
            "Test Loss: 1.2838, Test Accuracy: 0.5611\n",
            "Epoch 29, Batch 1000, Loss: 0.8373, Accuracy: 0.7070\n",
            "Test Loss: 1.2939, Test Accuracy: 0.5571\n",
            "Epoch 30, Batch 1000, Loss: 0.8313, Accuracy: 0.7091\n",
            "Test Loss: 1.3125, Test Accuracy: 0.5567\n"
          ]
        }
      ]
    },
    {
      "cell_type": "code",
      "source": [
        "print(f\"TRAIN LOSS - {len(model_training_losses)}\")\n",
        "print(f\"TRAIN ACCURACY - {len(model_training_accuracy)}\")\n",
        "print(f\"TEST LOSS - {len(model_testing_losses)}\")\n",
        "print(f\"TEST ACCURACY - {len(model_testing_accuracy)}\")"
      ],
      "metadata": {
        "colab": {
          "base_uri": "https://localhost:8080/"
        },
        "id": "dSM__5IW29E7",
        "outputId": "f34b6312-e4c2-4f14-bcfb-40a56bc94a8d"
      },
      "execution_count": 51,
      "outputs": [
        {
          "output_type": "stream",
          "name": "stdout",
          "text": [
            "TRAIN LOSS - 54\n",
            "TRAIN ACCURACY - 54\n",
            "TEST LOSS - 53\n",
            "TEST ACCURACY - 53\n"
          ]
        }
      ]
    },
    {
      "cell_type": "code",
      "source": [
        "import matplotlib.pyplot as plt\n",
        "\n",
        "def plot_loss_curves(train_loss, test_loss, train_acc, test_acc):\n",
        "    epochs = range(1, num_epochs + 1)\n",
        "\n",
        "    plt.figure(figsize=(15, 7))\n",
        "\n",
        "    # Plot Loss\n",
        "    plt.subplot(1, 2, 1)\n",
        "    plt.plot(epochs, train_loss, label=\"Train Loss\", color='blue', marker='o')\n",
        "    plt.plot(epochs, test_loss, label=\"Test Loss\", color='red', marker='x')\n",
        "    plt.title(\"Loss per Epoch\")\n",
        "    plt.xlabel(\"Epoch\")\n",
        "    plt.ylabel(\"Loss\")\n",
        "    plt.legend()\n",
        "    plt.grid(True)\n",
        "\n",
        "    # Plot Accuracy\n",
        "    plt.subplot(1, 2, 2)\n",
        "    plt.plot(epochs, train_acc, label=\"Train Accuracy\", color='green', marker='o')\n",
        "    plt.plot(epochs, test_acc, label=\"Test Accuracy\", color='orange', marker='x')\n",
        "    plt.title(\"Accuracy per Epoch\")\n",
        "    plt.xlabel(\"Epoch\")\n",
        "    plt.ylabel(\"Accuracy\")\n",
        "    plt.legend()\n",
        "    plt.grid(True)\n",
        "\n",
        "    plt.tight_layout()\n",
        "    plt.show()\n",
        "\n",
        "# Example usage:\n",
        "plot_loss_curves(\n",
        "    model_training_losses,\n",
        "    model_testing_losses,\n",
        "    model_training_accuracy,\n",
        "    model_testing_accuracy\n",
        ")\n"
      ],
      "metadata": {
        "colab": {
          "base_uri": "https://localhost:8080/",
          "height": 944
        },
        "id": "0r3Xrpvk0e5h",
        "outputId": "e5b07a9d-c6a0-4d99-b671-069f3575b4e8"
      },
      "execution_count": 50,
      "outputs": [
        {
          "output_type": "error",
          "ename": "ValueError",
          "evalue": "x and y must have same first dimension, but have shapes (30,) and (54,)",
          "traceback": [
            "\u001b[0;31m---------------------------------------------------------------------------\u001b[0m",
            "\u001b[0;31mValueError\u001b[0m                                Traceback (most recent call last)",
            "\u001b[0;32m/tmp/ipython-input-2272881355.py\u001b[0m in \u001b[0;36m<cell line: 0>\u001b[0;34m()\u001b[0m\n\u001b[1;32m     30\u001b[0m \u001b[0;34m\u001b[0m\u001b[0m\n\u001b[1;32m     31\u001b[0m \u001b[0;31m# Example usage:\u001b[0m\u001b[0;34m\u001b[0m\u001b[0;34m\u001b[0m\u001b[0m\n\u001b[0;32m---> 32\u001b[0;31m plot_loss_curves(\n\u001b[0m\u001b[1;32m     33\u001b[0m     \u001b[0mmodel_training_losses\u001b[0m\u001b[0;34m,\u001b[0m\u001b[0;34m\u001b[0m\u001b[0;34m\u001b[0m\u001b[0m\n\u001b[1;32m     34\u001b[0m     \u001b[0mmodel_testing_losses\u001b[0m\u001b[0;34m,\u001b[0m\u001b[0;34m\u001b[0m\u001b[0;34m\u001b[0m\u001b[0m\n",
            "\u001b[0;32m/tmp/ipython-input-2272881355.py\u001b[0m in \u001b[0;36mplot_loss_curves\u001b[0;34m(train_loss, test_loss, train_acc, test_acc)\u001b[0m\n\u001b[1;32m      8\u001b[0m     \u001b[0;31m# Plot Loss\u001b[0m\u001b[0;34m\u001b[0m\u001b[0;34m\u001b[0m\u001b[0m\n\u001b[1;32m      9\u001b[0m     \u001b[0mplt\u001b[0m\u001b[0;34m.\u001b[0m\u001b[0msubplot\u001b[0m\u001b[0;34m(\u001b[0m\u001b[0;36m1\u001b[0m\u001b[0;34m,\u001b[0m \u001b[0;36m2\u001b[0m\u001b[0;34m,\u001b[0m \u001b[0;36m1\u001b[0m\u001b[0;34m)\u001b[0m\u001b[0;34m\u001b[0m\u001b[0;34m\u001b[0m\u001b[0m\n\u001b[0;32m---> 10\u001b[0;31m     \u001b[0mplt\u001b[0m\u001b[0;34m.\u001b[0m\u001b[0mplot\u001b[0m\u001b[0;34m(\u001b[0m\u001b[0mepochs\u001b[0m\u001b[0;34m,\u001b[0m \u001b[0mtrain_loss\u001b[0m\u001b[0;34m,\u001b[0m \u001b[0mlabel\u001b[0m\u001b[0;34m=\u001b[0m\u001b[0;34m\"Train Loss\"\u001b[0m\u001b[0;34m,\u001b[0m \u001b[0mcolor\u001b[0m\u001b[0;34m=\u001b[0m\u001b[0;34m'blue'\u001b[0m\u001b[0;34m,\u001b[0m \u001b[0mmarker\u001b[0m\u001b[0;34m=\u001b[0m\u001b[0;34m'o'\u001b[0m\u001b[0;34m)\u001b[0m\u001b[0;34m\u001b[0m\u001b[0;34m\u001b[0m\u001b[0m\n\u001b[0m\u001b[1;32m     11\u001b[0m     \u001b[0mplt\u001b[0m\u001b[0;34m.\u001b[0m\u001b[0mplot\u001b[0m\u001b[0;34m(\u001b[0m\u001b[0mepochs\u001b[0m\u001b[0;34m,\u001b[0m \u001b[0mtest_loss\u001b[0m\u001b[0;34m,\u001b[0m \u001b[0mlabel\u001b[0m\u001b[0;34m=\u001b[0m\u001b[0;34m\"Test Loss\"\u001b[0m\u001b[0;34m,\u001b[0m \u001b[0mcolor\u001b[0m\u001b[0;34m=\u001b[0m\u001b[0;34m'red'\u001b[0m\u001b[0;34m,\u001b[0m \u001b[0mmarker\u001b[0m\u001b[0;34m=\u001b[0m\u001b[0;34m'x'\u001b[0m\u001b[0;34m)\u001b[0m\u001b[0;34m\u001b[0m\u001b[0;34m\u001b[0m\u001b[0m\n\u001b[1;32m     12\u001b[0m     \u001b[0mplt\u001b[0m\u001b[0;34m.\u001b[0m\u001b[0mtitle\u001b[0m\u001b[0;34m(\u001b[0m\u001b[0;34m\"Loss per Epoch\"\u001b[0m\u001b[0;34m)\u001b[0m\u001b[0;34m\u001b[0m\u001b[0;34m\u001b[0m\u001b[0m\n",
            "\u001b[0;32m/usr/local/lib/python3.11/dist-packages/matplotlib/pyplot.py\u001b[0m in \u001b[0;36mplot\u001b[0;34m(scalex, scaley, data, *args, **kwargs)\u001b[0m\n\u001b[1;32m   3827\u001b[0m     \u001b[0;34m**\u001b[0m\u001b[0mkwargs\u001b[0m\u001b[0;34m,\u001b[0m\u001b[0;34m\u001b[0m\u001b[0;34m\u001b[0m\u001b[0m\n\u001b[1;32m   3828\u001b[0m ) -> list[Line2D]:\n\u001b[0;32m-> 3829\u001b[0;31m     return gca().plot(\n\u001b[0m\u001b[1;32m   3830\u001b[0m         \u001b[0;34m*\u001b[0m\u001b[0margs\u001b[0m\u001b[0;34m,\u001b[0m\u001b[0;34m\u001b[0m\u001b[0;34m\u001b[0m\u001b[0m\n\u001b[1;32m   3831\u001b[0m         \u001b[0mscalex\u001b[0m\u001b[0;34m=\u001b[0m\u001b[0mscalex\u001b[0m\u001b[0;34m,\u001b[0m\u001b[0;34m\u001b[0m\u001b[0;34m\u001b[0m\u001b[0m\n",
            "\u001b[0;32m/usr/local/lib/python3.11/dist-packages/matplotlib/axes/_axes.py\u001b[0m in \u001b[0;36mplot\u001b[0;34m(self, scalex, scaley, data, *args, **kwargs)\u001b[0m\n\u001b[1;32m   1775\u001b[0m         \"\"\"\n\u001b[1;32m   1776\u001b[0m         \u001b[0mkwargs\u001b[0m \u001b[0;34m=\u001b[0m \u001b[0mcbook\u001b[0m\u001b[0;34m.\u001b[0m\u001b[0mnormalize_kwargs\u001b[0m\u001b[0;34m(\u001b[0m\u001b[0mkwargs\u001b[0m\u001b[0;34m,\u001b[0m \u001b[0mmlines\u001b[0m\u001b[0;34m.\u001b[0m\u001b[0mLine2D\u001b[0m\u001b[0;34m)\u001b[0m\u001b[0;34m\u001b[0m\u001b[0;34m\u001b[0m\u001b[0m\n\u001b[0;32m-> 1777\u001b[0;31m         \u001b[0mlines\u001b[0m \u001b[0;34m=\u001b[0m \u001b[0;34m[\u001b[0m\u001b[0;34m*\u001b[0m\u001b[0mself\u001b[0m\u001b[0;34m.\u001b[0m\u001b[0m_get_lines\u001b[0m\u001b[0;34m(\u001b[0m\u001b[0mself\u001b[0m\u001b[0;34m,\u001b[0m \u001b[0;34m*\u001b[0m\u001b[0margs\u001b[0m\u001b[0;34m,\u001b[0m \u001b[0mdata\u001b[0m\u001b[0;34m=\u001b[0m\u001b[0mdata\u001b[0m\u001b[0;34m,\u001b[0m \u001b[0;34m**\u001b[0m\u001b[0mkwargs\u001b[0m\u001b[0;34m)\u001b[0m\u001b[0;34m]\u001b[0m\u001b[0;34m\u001b[0m\u001b[0;34m\u001b[0m\u001b[0m\n\u001b[0m\u001b[1;32m   1778\u001b[0m         \u001b[0;32mfor\u001b[0m \u001b[0mline\u001b[0m \u001b[0;32min\u001b[0m \u001b[0mlines\u001b[0m\u001b[0;34m:\u001b[0m\u001b[0;34m\u001b[0m\u001b[0;34m\u001b[0m\u001b[0m\n\u001b[1;32m   1779\u001b[0m             \u001b[0mself\u001b[0m\u001b[0;34m.\u001b[0m\u001b[0madd_line\u001b[0m\u001b[0;34m(\u001b[0m\u001b[0mline\u001b[0m\u001b[0;34m)\u001b[0m\u001b[0;34m\u001b[0m\u001b[0;34m\u001b[0m\u001b[0m\n",
            "\u001b[0;32m/usr/local/lib/python3.11/dist-packages/matplotlib/axes/_base.py\u001b[0m in \u001b[0;36m__call__\u001b[0;34m(self, axes, data, return_kwargs, *args, **kwargs)\u001b[0m\n\u001b[1;32m    295\u001b[0m                 \u001b[0mthis\u001b[0m \u001b[0;34m+=\u001b[0m \u001b[0margs\u001b[0m\u001b[0;34m[\u001b[0m\u001b[0;36m0\u001b[0m\u001b[0;34m]\u001b[0m\u001b[0;34m,\u001b[0m\u001b[0;34m\u001b[0m\u001b[0;34m\u001b[0m\u001b[0m\n\u001b[1;32m    296\u001b[0m                 \u001b[0margs\u001b[0m \u001b[0;34m=\u001b[0m \u001b[0margs\u001b[0m\u001b[0;34m[\u001b[0m\u001b[0;36m1\u001b[0m\u001b[0;34m:\u001b[0m\u001b[0;34m]\u001b[0m\u001b[0;34m\u001b[0m\u001b[0;34m\u001b[0m\u001b[0m\n\u001b[0;32m--> 297\u001b[0;31m             yield from self._plot_args(\n\u001b[0m\u001b[1;32m    298\u001b[0m                 \u001b[0maxes\u001b[0m\u001b[0;34m,\u001b[0m \u001b[0mthis\u001b[0m\u001b[0;34m,\u001b[0m \u001b[0mkwargs\u001b[0m\u001b[0;34m,\u001b[0m \u001b[0mambiguous_fmt_datakey\u001b[0m\u001b[0;34m=\u001b[0m\u001b[0mambiguous_fmt_datakey\u001b[0m\u001b[0;34m,\u001b[0m\u001b[0;34m\u001b[0m\u001b[0;34m\u001b[0m\u001b[0m\n\u001b[1;32m    299\u001b[0m                 \u001b[0mreturn_kwargs\u001b[0m\u001b[0;34m=\u001b[0m\u001b[0mreturn_kwargs\u001b[0m\u001b[0;34m\u001b[0m\u001b[0;34m\u001b[0m\u001b[0m\n",
            "\u001b[0;32m/usr/local/lib/python3.11/dist-packages/matplotlib/axes/_base.py\u001b[0m in \u001b[0;36m_plot_args\u001b[0;34m(self, axes, tup, kwargs, return_kwargs, ambiguous_fmt_datakey)\u001b[0m\n\u001b[1;32m    492\u001b[0m \u001b[0;34m\u001b[0m\u001b[0m\n\u001b[1;32m    493\u001b[0m         \u001b[0;32mif\u001b[0m \u001b[0mx\u001b[0m\u001b[0;34m.\u001b[0m\u001b[0mshape\u001b[0m\u001b[0;34m[\u001b[0m\u001b[0;36m0\u001b[0m\u001b[0;34m]\u001b[0m \u001b[0;34m!=\u001b[0m \u001b[0my\u001b[0m\u001b[0;34m.\u001b[0m\u001b[0mshape\u001b[0m\u001b[0;34m[\u001b[0m\u001b[0;36m0\u001b[0m\u001b[0;34m]\u001b[0m\u001b[0;34m:\u001b[0m\u001b[0;34m\u001b[0m\u001b[0;34m\u001b[0m\u001b[0m\n\u001b[0;32m--> 494\u001b[0;31m             raise ValueError(f\"x and y must have same first dimension, but \"\n\u001b[0m\u001b[1;32m    495\u001b[0m                              f\"have shapes {x.shape} and {y.shape}\")\n\u001b[1;32m    496\u001b[0m         \u001b[0;32mif\u001b[0m \u001b[0mx\u001b[0m\u001b[0;34m.\u001b[0m\u001b[0mndim\u001b[0m \u001b[0;34m>\u001b[0m \u001b[0;36m2\u001b[0m \u001b[0;32mor\u001b[0m \u001b[0my\u001b[0m\u001b[0;34m.\u001b[0m\u001b[0mndim\u001b[0m \u001b[0;34m>\u001b[0m \u001b[0;36m2\u001b[0m\u001b[0;34m:\u001b[0m\u001b[0;34m\u001b[0m\u001b[0;34m\u001b[0m\u001b[0m\n",
            "\u001b[0;31mValueError\u001b[0m: x and y must have same first dimension, but have shapes (30,) and (54,)"
          ]
        },
        {
          "output_type": "display_data",
          "data": {
            "text/plain": [
              "<Figure size 1500x700 with 1 Axes>"
            ],
            "image/png": "[encoded data removed]"
          },
          "metadata": {}
        }
      ]
    },
    {
      "cell_type": "markdown",
      "source": [
        "Your model fits the training data well but has unstable performance on the test set.\n",
        "\n",
        "This instability may be due to:\n",
        "* Small test set size (variance in performance across epochs).\n",
        "\n",
        "* Overfitting: Model learns training patterns too well but fails to generalize.\n",
        "\n",
        "* High learning rate: Causes oscillations in test performance.\n",
        "\n",
        "* Data mismatch between training and testing sets.\n"
      ],
      "metadata": {
        "id": "GkrLwlYc4YIj"
      }
    },
    {
      "cell_type": "code",
      "source": [],
      "metadata": {
        "id": "0oGlxr9L4uOc"
      },
      "execution_count": null,
      "outputs": []
    }
  ]
}