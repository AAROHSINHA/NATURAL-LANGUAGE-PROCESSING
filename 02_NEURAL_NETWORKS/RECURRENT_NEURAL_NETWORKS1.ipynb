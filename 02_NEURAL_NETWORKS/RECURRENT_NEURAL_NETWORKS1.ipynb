{
  "nbformat": 4,
  "nbformat_minor": 0,
  "metadata": {
    "colab": {
      "provenance": []
    },
    "kernelspec": {
      "name": "python3",
      "display_name": "Python 3"
    },
    "language_info": {
      "name": "python"
    }
  },
  "cells": [
    {
      "cell_type": "markdown",
      "source": [
        "# ***RECURRENT NEURAL NETWORKS***"
      ],
      "metadata": {
        "id": "dizNxBuKtPTD"
      }
    },
    {
      "cell_type": "markdown",
      "source": [
        "> **Recurrent Neural Networks are a special type of neural network designed to process sequential data, such as sentences or time series. Unlike standard neural networks, RNNs have connections that loop back, allowing them to maintain a form of \"memory\" and keep track of information from previous data points in the sequence.**\n",
        "\n",
        "> ***RNNs use something called Recurrent Neurons...***\n",
        "### **1. RECURRENT NEURONS**\n",
        "* The recurrent neuron differs from standard neuron. The recurrent neuron also has a hidden state. It stores the data/context from the previous sequences in it.\n",
        "* Suppose at a certain time step, the recurrent neuron recieves some input. What it does is\n",
        "  * Like a normal neuron, it also does some operation on the data to pass it further.\n",
        "  * But it also takes in the hidden state of last Recurrent Neuron, combines with the current data/info, does some work to store the sequential context till that time step.\n",
        "  * The RNN updates this hidden state using both the current input and the previous hidden state to create a new hidden state\n",
        "  that reflects the accumulated knowledge of the input sequence so far.\n",
        "* This is also called `feedback loops`. The output of one neuron at one time step is contextual/sequential input for the other neuron on successive time steps.\n",
        "* ***In terms of sentiment analysis, this enables the RNN to remember the previous words, meaning of the sentences till that word and what the correct word provides as data.***\n",
        "\n",
        "### **2. FORWARD PROPOGATION IN RNNs**\n",
        "* Because in rnn, there is `input layers + hidden layer of Recurrent Neurons + output layer`, what happens is the mechanism is quiet different from the Feedforward Neural Networks.\n",
        "* At each hidden layer, suppose we are at the recurrent neuron. It takes in data from the previous neuron and also the hidden state of the previous one.\n",
        "* Then it applies the tanh activation or some other on it. Now the data is ready to go into the next one and also the current hidden state is based on current info + prev info.\n",
        "* And hence we get to the output\n",
        "\n",
        "### **3. BACKPROPOGATION IN RNNs**\n",
        "* RNNs process sequences step-by-step, maintaining a hidden state that depends on the current input and the previous hidden state.\n",
        "* During training, the parameters (weights) of the RNN need to be updated based on how the network performed over the entire sequence, not just at the final step.\n",
        "* Because the hidden state at each time step depends on previous states, the error at a given step can be influenced by all earlier time steps.\n",
        "* BPTT \"unfolds\" the RNN through time into a long feedforward-like network where each time step is like a layer.\n",
        "* Then, standard backpropagation is applied through this unfolded network, propagating error backward through each time step.\n",
        "* The weight gradients from each time step are summed together because the same weights are shared across time.\n",
        "\n",
        "\n",
        "> `A GOOD INTUTION FOR WHY RNNs?`  - ***To better demonstrate the distinction between FFNs and RNNs, imagine we want to label words as the part-of-speech categories that they belong to: E.g. for the input sentence “I would like the duck” and “He had to duck”. Our model should predict that duck is a Noun in the first sentence and a Verb in the second. To do this successfully, the model needs to be aware of the surrounding context. However, if we feed a FFN model only one word at a time, how could it know the difference? If we want to feed it all the words at once, how do we deal with the fact that sentences are of different lengths?***"
      ],
      "metadata": {
        "id": "cKiSANzhurNM"
      }
    },
    {
      "cell_type": "markdown",
      "source": [
        "## **PROBLEM STATEMENT - SPAM vs HAM**\n",
        "**ABOUT**\n",
        "> *Our Problem statement to learn Recurrent Neural Networks is going to be SPAM vs HAM classifier. The basic HELLO WORLD of NLP and RNNs*"
      ],
      "metadata": {
        "id": "vcidExGVtS1T"
      }
    },
    {
      "cell_type": "code",
      "source": [
        "import numpy as np\n",
        "import pandas as pd\n",
        "import matplotlib.pyplot as plt\n",
        "import seaborn as sns"
      ],
      "metadata": {
        "id": "Cozx_Oyg17mr"
      },
      "execution_count": 32,
      "outputs": []
    },
    {
      "cell_type": "code",
      "source": [
        "## LOADING THE DATASET\n",
        "data = pd.read_csv(\"spamhamdata.csv\", sep=\"\\t\", header=None, names=['label', 'text'])\n",
        "data.head()"
      ],
      "metadata": {
        "colab": {
          "base_uri": "https://localhost:8080/",
          "height": 206
        },
        "id": "tmpKix6-2cR5",
        "outputId": "089e60ee-fe5c-4385-b46c-a43966bd3993"
      },
      "execution_count": 33,
      "outputs": [
        {
          "output_type": "execute_result",
          "data": {
            "text/plain": [
              "  label                                               text\n",
              "0   ham  Go until jurong point, crazy.. Available only ...\n",
              "1   ham                      Ok lar... Joking wif u oni...\n",
              "2  spam  Free entry in 2 a wkly comp to win FA Cup fina...\n",
              "3   ham  U dun say so early hor... U c already then say...\n",
              "4   ham  Nah I don't think he goes to usf, he lives aro..."
            ],
            "text/html": [
              "\n",
              "  <div id=\"df-fa680905-7908-4f51-907e-25a54ad9ee2a\" class=\"colab-df-container\">\n",
              "    <div>\n",
              "<style scoped>\n",
              "    .dataframe tbody tr th:only-of-type {\n",
              "        vertical-align: middle;\n",
              "    }\n",
              "\n",
              "    .dataframe tbody tr th {\n",
              "        vertical-align: top;\n",
              "    }\n",
              "\n",
              "    .dataframe thead th {\n",
              "        text-align: right;\n",
              "    }\n",
              "</style>\n",
              "<table border=\"1\" class=\"dataframe\">\n",
              "  <thead>\n",
              "    <tr style=\"text-align: right;\">\n",
              "      <th></th>\n",
              "      <th>label</th>\n",
              "      <th>text</th>\n",
              "    </tr>\n",
              "  </thead>\n",
              "  <tbody>\n",
              "    <tr>\n",
              "      <th>0</th>\n",
              "      <td>ham</td>\n",
              "      <td>Go until jurong point, crazy.. Available only ...</td>\n",
              "    </tr>\n",
              "    <tr>\n",
              "      <th>1</th>\n",
              "      <td>ham</td>\n",
              "      <td>Ok lar... Joking wif u oni...</td>\n",
              "    </tr>\n",
              "    <tr>\n",
              "      <th>2</th>\n",
              "      <td>spam</td>\n",
              "      <td>Free entry in 2 a wkly comp to win FA Cup fina...</td>\n",
              "    </tr>\n",
              "    <tr>\n",
              "      <th>3</th>\n",
              "      <td>ham</td>\n",
              "      <td>U dun say so early hor... U c already then say...</td>\n",
              "    </tr>\n",
              "    <tr>\n",
              "      <th>4</th>\n",
              "      <td>ham</td>\n",
              "      <td>Nah I don't think he goes to usf, he lives aro...</td>\n",
              "    </tr>\n",
              "  </tbody>\n",
              "</table>\n",
              "</div>\n",
              "    <div class=\"colab-df-buttons\">\n",
              "\n",
              "  <div class=\"colab-df-container\">\n",
              "    <button class=\"colab-df-convert\" onclick=\"convertToInteractive('df-fa680905-7908-4f51-907e-25a54ad9ee2a')\"\n",
              "            title=\"Convert this dataframe to an interactive table.\"\n",
              "            style=\"display:none;\">\n",
              "\n",
              "  <svg xmlns=\"http://www.w3.org/2000/svg\" height=\"24px\" viewBox=\"0 -960 960 960\">\n",
              "    <path d=\"M120-120v-720h720v720H120Zm60-500h600v-160H180v160Zm220 220h160v-160H400v160Zm0 220h160v-160H400v160ZM180-400h160v-160H180v160Zm440 0h160v-160H620v160ZM180-180h160v-160H180v160Zm440 0h160v-160H620v160Z\"/>\n",
              "  </svg>\n",
              "    </button>\n",
              "\n",
              "  <style>\n",
              "    .colab-df-container {\n",
              "      display:flex;\n",
              "      gap: 12px;\n",
              "    }\n",
              "\n",
              "    .colab-df-convert {\n",
              "      background-color: #E8F0FE;\n",
              "      border: none;\n",
              "      border-radius: 50%;\n",
              "      cursor: pointer;\n",
              "      display: none;\n",
              "      fill: #1967D2;\n",
              "      height: 32px;\n",
              "      padding: 0 0 0 0;\n",
              "      width: 32px;\n",
              "    }\n",
              "\n",
              "    .colab-df-convert:hover {\n",
              "      background-color: #E2EBFA;\n",
              "      box-shadow: 0px 1px 2px rgba(60, 64, 67, 0.3), 0px 1px 3px 1px rgba(60, 64, 67, 0.15);\n",
              "      fill: #174EA6;\n",
              "    }\n",
              "\n",
              "    .colab-df-buttons div {\n",
              "      margin-bottom: 4px;\n",
              "    }\n",
              "\n",
              "    [theme=dark] .colab-df-convert {\n",
              "      background-color: #3B4455;\n",
              "      fill: #D2E3FC;\n",
              "    }\n",
              "\n",
              "    [theme=dark] .colab-df-convert:hover {\n",
              "      background-color: #434B5C;\n",
              "      box-shadow: 0px 1px 3px 1px rgba(0, 0, 0, 0.15);\n",
              "      filter: drop-shadow(0px 1px 2px rgba(0, 0, 0, 0.3));\n",
              "      fill: #FFFFFF;\n",
              "    }\n",
              "  </style>\n",
              "\n",
              "    <script>\n",
              "      const buttonEl =\n",
              "        document.querySelector('#df-fa680905-7908-4f51-907e-25a54ad9ee2a button.colab-df-convert');\n",
              "      buttonEl.style.display =\n",
              "        google.colab.kernel.accessAllowed ? 'block' : 'none';\n",
              "\n",
              "      async function convertToInteractive(key) {\n",
              "        const element = document.querySelector('#df-fa680905-7908-4f51-907e-25a54ad9ee2a');\n",
              "        const dataTable =\n",
              "          await google.colab.kernel.invokeFunction('convertToInteractive',\n",
              "                                                    [key], {});\n",
              "        if (!dataTable) return;\n",
              "\n",
              "        const docLinkHtml = 'Like what you see? Visit the ' +\n",
              "          '<a target=\"_blank\" href=https://colab.research.google.com/notebooks/data_table.ipynb>data table notebook</a>'\n",
              "          + ' to learn more about interactive tables.';\n",
              "        element.innerHTML = '';\n",
              "        dataTable['output_type'] = 'display_data';\n",
              "        await google.colab.output.renderOutput(dataTable, element);\n",
              "        const docLink = document.createElement('div');\n",
              "        docLink.innerHTML = docLinkHtml;\n",
              "        element.appendChild(docLink);\n",
              "      }\n",
              "    </script>\n",
              "  </div>\n",
              "\n",
              "\n",
              "    <div id=\"df-0a5f0add-0d7f-4d32-95b2-fe6a2be08b8f\">\n",
              "      <button class=\"colab-df-quickchart\" onclick=\"quickchart('df-0a5f0add-0d7f-4d32-95b2-fe6a2be08b8f')\"\n",
              "                title=\"Suggest charts\"\n",
              "                style=\"display:none;\">\n",
              "\n",
              "<svg xmlns=\"http://www.w3.org/2000/svg\" height=\"24px\"viewBox=\"0 0 24 24\"\n",
              "     width=\"24px\">\n",
              "    <g>\n",
              "        <path d=\"M19 3H5c-1.1 0-2 .9-2 2v14c0 1.1.9 2 2 2h14c1.1 0 2-.9 2-2V5c0-1.1-.9-2-2-2zM9 17H7v-7h2v7zm4 0h-2V7h2v10zm4 0h-2v-4h2v4z\"/>\n",
              "    </g>\n",
              "</svg>\n",
              "      </button>\n",
              "\n",
              "<style>\n",
              "  .colab-df-quickchart {\n",
              "      --bg-color: #E8F0FE;\n",
              "      --fill-color: #1967D2;\n",
              "      --hover-bg-color: #E2EBFA;\n",
              "      --hover-fill-color: #174EA6;\n",
              "      --disabled-fill-color: #AAA;\n",
              "      --disabled-bg-color: #DDD;\n",
              "  }\n",
              "\n",
              "  [theme=dark] .colab-df-quickchart {\n",
              "      --bg-color: #3B4455;\n",
              "      --fill-color: #D2E3FC;\n",
              "      --hover-bg-color: #434B5C;\n",
              "      --hover-fill-color: #FFFFFF;\n",
              "      --disabled-bg-color: #3B4455;\n",
              "      --disabled-fill-color: #666;\n",
              "  }\n",
              "\n",
              "  .colab-df-quickchart {\n",
              "    background-color: var(--bg-color);\n",
              "    border: none;\n",
              "    border-radius: 50%;\n",
              "    cursor: pointer;\n",
              "    display: none;\n",
              "    fill: var(--fill-color);\n",
              "    height: 32px;\n",
              "    padding: 0;\n",
              "    width: 32px;\n",
              "  }\n",
              "\n",
              "  .colab-df-quickchart:hover {\n",
              "    background-color: var(--hover-bg-color);\n",
              "    box-shadow: 0 1px 2px rgba(60, 64, 67, 0.3), 0 1px 3px 1px rgba(60, 64, 67, 0.15);\n",
              "    fill: var(--button-hover-fill-color);\n",
              "  }\n",
              "\n",
              "  .colab-df-quickchart-complete:disabled,\n",
              "  .colab-df-quickchart-complete:disabled:hover {\n",
              "    background-color: var(--disabled-bg-color);\n",
              "    fill: var(--disabled-fill-color);\n",
              "    box-shadow: none;\n",
              "  }\n",
              "\n",
              "  .colab-df-spinner {\n",
              "    border: 2px solid var(--fill-color);\n",
              "    border-color: transparent;\n",
              "    border-bottom-color: var(--fill-color);\n",
              "    animation:\n",
              "      spin 1s steps(1) infinite;\n",
              "  }\n",
              "\n",
              "  @keyframes spin {\n",
              "    0% {\n",
              "      border-color: transparent;\n",
              "      border-bottom-color: var(--fill-color);\n",
              "      border-left-color: var(--fill-color);\n",
              "    }\n",
              "    20% {\n",
              "      border-color: transparent;\n",
              "      border-left-color: var(--fill-color);\n",
              "      border-top-color: var(--fill-color);\n",
              "    }\n",
              "    30% {\n",
              "      border-color: transparent;\n",
              "      border-left-color: var(--fill-color);\n",
              "      border-top-color: var(--fill-color);\n",
              "      border-right-color: var(--fill-color);\n",
              "    }\n",
              "    40% {\n",
              "      border-color: transparent;\n",
              "      border-right-color: var(--fill-color);\n",
              "      border-top-color: var(--fill-color);\n",
              "    }\n",
              "    60% {\n",
              "      border-color: transparent;\n",
              "      border-right-color: var(--fill-color);\n",
              "    }\n",
              "    80% {\n",
              "      border-color: transparent;\n",
              "      border-right-color: var(--fill-color);\n",
              "      border-bottom-color: var(--fill-color);\n",
              "    }\n",
              "    90% {\n",
              "      border-color: transparent;\n",
              "      border-bottom-color: var(--fill-color);\n",
              "    }\n",
              "  }\n",
              "</style>\n",
              "\n",
              "      <script>\n",
              "        async function quickchart(key) {\n",
              "          const quickchartButtonEl =\n",
              "            document.querySelector('#' + key + ' button');\n",
              "          quickchartButtonEl.disabled = true;  // To prevent multiple clicks.\n",
              "          quickchartButtonEl.classList.add('colab-df-spinner');\n",
              "          try {\n",
              "            const charts = await google.colab.kernel.invokeFunction(\n",
              "                'suggestCharts', [key], {});\n",
              "          } catch (error) {\n",
              "            console.error('Error during call to suggestCharts:', error);\n",
              "          }\n",
              "          quickchartButtonEl.classList.remove('colab-df-spinner');\n",
              "          quickchartButtonEl.classList.add('colab-df-quickchart-complete');\n",
              "        }\n",
              "        (() => {\n",
              "          let quickchartButtonEl =\n",
              "            document.querySelector('#df-0a5f0add-0d7f-4d32-95b2-fe6a2be08b8f button');\n",
              "          quickchartButtonEl.style.display =\n",
              "            google.colab.kernel.accessAllowed ? 'block' : 'none';\n",
              "        })();\n",
              "      </script>\n",
              "    </div>\n",
              "\n",
              "    </div>\n",
              "  </div>\n"
            ],
            "application/vnd.google.colaboratory.intrinsic+json": {
              "type": "dataframe",
              "variable_name": "data",
              "summary": "{\n  \"name\": \"data\",\n  \"rows\": 5572,\n  \"fields\": [\n    {\n      \"column\": \"label\",\n      \"properties\": {\n        \"dtype\": \"category\",\n        \"num_unique_values\": 2,\n        \"samples\": [\n          \"spam\",\n          \"ham\"\n        ],\n        \"semantic_type\": \"\",\n        \"description\": \"\"\n      }\n    },\n    {\n      \"column\": \"text\",\n      \"properties\": {\n        \"dtype\": \"string\",\n        \"num_unique_values\": 5169,\n        \"samples\": [\n          \"K, makes sense, btw carlos is being difficult so you guys are gonna smoke while I go pick up the second batch and get gas\",\n          \"URGENT! Your mobile No *********** WON a \\u00a32,000 Bonus Caller Prize on 02/06/03! This is the 2nd attempt to reach YOU! Call 09066362220 ASAP! BOX97N7QP, 150ppm\"\n        ],\n        \"semantic_type\": \"\",\n        \"description\": \"\"\n      }\n    }\n  ]\n}"
            }
          },
          "metadata": {},
          "execution_count": 33
        }
      ]
    },
    {
      "cell_type": "code",
      "source": [
        "data.info()"
      ],
      "metadata": {
        "colab": {
          "base_uri": "https://localhost:8080/"
        },
        "id": "RpeBj0LK2noV",
        "outputId": "cf79dfc6-10c6-4be1-9fa6-dcbaaa47e2c5"
      },
      "execution_count": 34,
      "outputs": [
        {
          "output_type": "stream",
          "name": "stdout",
          "text": [
            "<class 'pandas.core.frame.DataFrame'>\n",
            "RangeIndex: 5572 entries, 0 to 5571\n",
            "Data columns (total 2 columns):\n",
            " #   Column  Non-Null Count  Dtype \n",
            "---  ------  --------------  ----- \n",
            " 0   label   5572 non-null   object\n",
            " 1   text    5572 non-null   object\n",
            "dtypes: object(2)\n",
            "memory usage: 87.2+ KB\n"
          ]
        }
      ]
    },
    {
      "cell_type": "code",
      "source": [
        "## Let's visualize (just seeing as this is textual) some samples\n",
        "def getSamples(type = \"spam\", N = 5):\n",
        "  if type not in [\"spam\", \"ham\"]:\n",
        "    print(\"EITHER ENTER spam OR ham\")\n",
        "    return\n",
        "  typeData = data[data[\"label\"] == type]\n",
        "  random_samples = typeData.sample(n=N)\n",
        "  sentences = list(random_samples[\"text\"])\n",
        "  print(\"-----------------------------------\")\n",
        "  print(\" \")\n",
        "  print(f\"{type.upper()}\")\n",
        "  print(\" \")\n",
        "  print(\"-----------------------------------\")\n",
        "  for index, sentence in enumerate(sentences):\n",
        "    print(f\"SENTENCE - {index + 1} : \")\n",
        "    print(sentence)\n",
        "    print(\"-------------------------------------\")"
      ],
      "metadata": {
        "id": "Lsj9FifH22p3"
      },
      "execution_count": 35,
      "outputs": []
    },
    {
      "cell_type": "code",
      "source": [
        "getSamples()"
      ],
      "metadata": {
        "colab": {
          "base_uri": "https://localhost:8080/"
        },
        "id": "IlFIfwD335eD",
        "outputId": "0722d74d-a064-4101-8bcd-4b638e25fb06"
      },
      "execution_count": 36,
      "outputs": [
        {
          "output_type": "stream",
          "name": "stdout",
          "text": [
            "-----------------------------------\n",
            " \n",
            "SPAM\n",
            " \n",
            "-----------------------------------\n",
            "SENTENCE - 1 : \n",
            "Hi ya babe x u 4goten bout me?' scammers getting smart..Though this is a regular vodafone no, if you respond you get further prem rate msg/subscription. Other nos used also. Beware!\n",
            "-------------------------------------\n",
            "SENTENCE - 2 : \n",
            "A link to your picture has been sent. You can also use http://alto18.co.uk/wave/wave.asp?o=44345\n",
            "-------------------------------------\n",
            "SENTENCE - 3 : \n",
            "Congratulations ur awarded either £500 of CD gift vouchers & Free entry 2 our £100 weekly draw txt MUSIC to 87066 TnCs www.Ldew.com1win150ppmx3age16\n",
            "-------------------------------------\n",
            "SENTENCE - 4 : \n",
            "You have 1 new message. Please call 08712400200.\n",
            "-------------------------------------\n",
            "SENTENCE - 5 : \n",
            "URGENT! We are trying to contact U. Todays draw shows that you have won a £2000 prize GUARANTEED. Call 09066358361 from land line. Claim Y87. Valid 12hrs only\n",
            "-------------------------------------\n"
          ]
        }
      ]
    },
    {
      "cell_type": "code",
      "source": [
        "getSamples(\"ham\")"
      ],
      "metadata": {
        "colab": {
          "base_uri": "https://localhost:8080/"
        },
        "id": "-ydiF0he36vR",
        "outputId": "6271810a-c0b7-4e61-bad2-3749e95fe698"
      },
      "execution_count": 37,
      "outputs": [
        {
          "output_type": "stream",
          "name": "stdout",
          "text": [
            "-----------------------------------\n",
            " \n",
            "HAM\n",
            " \n",
            "-----------------------------------\n",
            "SENTENCE - 1 : \n",
            "You getting back any time soon?\n",
            "-------------------------------------\n",
            "SENTENCE - 2 : \n",
            "Oh great. I.ll disturb him more so that we can talk.\n",
            "-------------------------------------\n",
            "SENTENCE - 3 : \n",
            "Yeah. I got a list with only u and Joanna if I'm feeling really anti social\n",
            "-------------------------------------\n",
            "SENTENCE - 4 : \n",
            "Dear relieved of westonzoyland, all going to plan this end too!\n",
            "-------------------------------------\n",
            "SENTENCE - 5 : \n",
            "WOT U WANNA DO THEN MISSY?\n",
            "-------------------------------------\n"
          ]
        }
      ]
    },
    {
      "cell_type": "markdown",
      "source": [
        "SO OUR DATA IS GOOD...LET'S START THE DATA TRANSFORMATION"
      ],
      "metadata": {
        "id": "PosnehHF4Jtl"
      }
    },
    {
      "cell_type": "markdown",
      "source": [
        "\n",
        "\n",
        "## **1. TEXT PREPROCESSING**\n",
        "1. LOWERCASE THE SENTENCE\n",
        "2. REMOVE THE PUNCTUATION\n",
        "3. REMOVE THE STOPWORDS"
      ],
      "metadata": {
        "id": "NhX8QyFRDJXn"
      }
    },
    {
      "cell_type": "code",
      "source": [
        "import nltk\n",
        "nltk.download('punkt')\n",
        "nltk.download('punkt_tab')\n",
        "nltk.download('stopwords')\n"
      ],
      "metadata": {
        "colab": {
          "base_uri": "https://localhost:8080/"
        },
        "id": "e2pQdLUSG3zB",
        "outputId": "73d15f8b-0bd6-40b8-e1a1-7389e76f5c49"
      },
      "execution_count": 38,
      "outputs": [
        {
          "output_type": "stream",
          "name": "stderr",
          "text": [
            "[nltk_data] Downloading package punkt to /root/nltk_data...\n",
            "[nltk_data]   Package punkt is already up-to-date!\n",
            "[nltk_data] Downloading package punkt_tab to /root/nltk_data...\n",
            "[nltk_data]   Package punkt_tab is already up-to-date!\n",
            "[nltk_data] Downloading package stopwords to /root/nltk_data...\n",
            "[nltk_data]   Package stopwords is already up-to-date!\n"
          ]
        },
        {
          "output_type": "execute_result",
          "data": {
            "text/plain": [
              "True"
            ]
          },
          "metadata": {},
          "execution_count": 38
        }
      ]
    },
    {
      "cell_type": "code",
      "source": [
        "import re\n",
        "import nltk\n",
        "from nltk.tokenize import word_tokenize\n",
        "from nltk.corpus import stopwords\n",
        "from nltk.tokenize import word_tokenize\n",
        "\n",
        "stop_words = set(stopwords.words('english'))\n",
        "\n",
        "\n",
        "def preprocess(sentence):\n",
        "  # 1. lowercase\n",
        "  sentence = sentence.lower()\n",
        "\n",
        "  # 2. tokenize and remove the punctuation\n",
        "  tokens = word_tokenize(sentence)\n",
        "  sentence = word_tokenize(sentence)\n",
        "  sentence_tokens = [re.sub(r'[^\\w\\s]', '', token) for token in sentence if re.sub(r'[^\\w\\s]', '', token)]\n",
        "\n",
        "  # 3. remove the stopwords\n",
        "  filtered_sentence_tokens = [word for word in sentence_tokens if word not in stop_words]\n",
        "  return filtered_sentence_tokens"
      ],
      "metadata": {
        "id": "T7w7eufcFF7c"
      },
      "execution_count": 39,
      "outputs": []
    },
    {
      "cell_type": "code",
      "source": [
        "data[\"text\"] = data[\"text\"].apply(preprocess)\n",
        "data.head()"
      ],
      "metadata": {
        "colab": {
          "base_uri": "https://localhost:8080/",
          "height": 206
        },
        "id": "L1gxcAP9GqP5",
        "outputId": "d8c4add8-a33e-42b3-960e-a68901c3eeaa"
      },
      "execution_count": 40,
      "outputs": [
        {
          "output_type": "execute_result",
          "data": {
            "text/plain": [
              "  label                                               text\n",
              "0   ham  [go, jurong, point, crazy, available, bugis, n...\n",
              "1   ham                     [ok, lar, joking, wif, u, oni]\n",
              "2  spam  [free, entry, 2, wkly, comp, win, fa, cup, fin...\n",
              "3   ham      [u, dun, say, early, hor, u, c, already, say]\n",
              "4   ham  [nah, nt, think, goes, usf, lives, around, tho..."
            ],
            "text/html": [
              "\n",
              "  <div id=\"df-e4ba3449-64a7-41f3-b8b7-081bc1a989f6\" class=\"colab-df-container\">\n",
              "    <div>\n",
              "<style scoped>\n",
              "    .dataframe tbody tr th:only-of-type {\n",
              "        vertical-align: middle;\n",
              "    }\n",
              "\n",
              "    .dataframe tbody tr th {\n",
              "        vertical-align: top;\n",
              "    }\n",
              "\n",
              "    .dataframe thead th {\n",
              "        text-align: right;\n",
              "    }\n",
              "</style>\n",
              "<table border=\"1\" class=\"dataframe\">\n",
              "  <thead>\n",
              "    <tr style=\"text-align: right;\">\n",
              "      <th></th>\n",
              "      <th>label</th>\n",
              "      <th>text</th>\n",
              "    </tr>\n",
              "  </thead>\n",
              "  <tbody>\n",
              "    <tr>\n",
              "      <th>0</th>\n",
              "      <td>ham</td>\n",
              "      <td>[go, jurong, point, crazy, available, bugis, n...</td>\n",
              "    </tr>\n",
              "    <tr>\n",
              "      <th>1</th>\n",
              "      <td>ham</td>\n",
              "      <td>[ok, lar, joking, wif, u, oni]</td>\n",
              "    </tr>\n",
              "    <tr>\n",
              "      <th>2</th>\n",
              "      <td>spam</td>\n",
              "      <td>[free, entry, 2, wkly, comp, win, fa, cup, fin...</td>\n",
              "    </tr>\n",
              "    <tr>\n",
              "      <th>3</th>\n",
              "      <td>ham</td>\n",
              "      <td>[u, dun, say, early, hor, u, c, already, say]</td>\n",
              "    </tr>\n",
              "    <tr>\n",
              "      <th>4</th>\n",
              "      <td>ham</td>\n",
              "      <td>[nah, nt, think, goes, usf, lives, around, tho...</td>\n",
              "    </tr>\n",
              "  </tbody>\n",
              "</table>\n",
              "</div>\n",
              "    <div class=\"colab-df-buttons\">\n",
              "\n",
              "  <div class=\"colab-df-container\">\n",
              "    <button class=\"colab-df-convert\" onclick=\"convertToInteractive('df-e4ba3449-64a7-41f3-b8b7-081bc1a989f6')\"\n",
              "            title=\"Convert this dataframe to an interactive table.\"\n",
              "            style=\"display:none;\">\n",
              "\n",
              "  <svg xmlns=\"http://www.w3.org/2000/svg\" height=\"24px\" viewBox=\"0 -960 960 960\">\n",
              "    <path d=\"M120-120v-720h720v720H120Zm60-500h600v-160H180v160Zm220 220h160v-160H400v160Zm0 220h160v-160H400v160ZM180-400h160v-160H180v160Zm440 0h160v-160H620v160ZM180-180h160v-160H180v160Zm440 0h160v-160H620v160Z\"/>\n",
              "  </svg>\n",
              "    </button>\n",
              "\n",
              "  <style>\n",
              "    .colab-df-container {\n",
              "      display:flex;\n",
              "      gap: 12px;\n",
              "    }\n",
              "\n",
              "    .colab-df-convert {\n",
              "      background-color: #E8F0FE;\n",
              "      border: none;\n",
              "      border-radius: 50%;\n",
              "      cursor: pointer;\n",
              "      display: none;\n",
              "      fill: #1967D2;\n",
              "      height: 32px;\n",
              "      padding: 0 0 0 0;\n",
              "      width: 32px;\n",
              "    }\n",
              "\n",
              "    .colab-df-convert:hover {\n",
              "      background-color: #E2EBFA;\n",
              "      box-shadow: 0px 1px 2px rgba(60, 64, 67, 0.3), 0px 1px 3px 1px rgba(60, 64, 67, 0.15);\n",
              "      fill: #174EA6;\n",
              "    }\n",
              "\n",
              "    .colab-df-buttons div {\n",
              "      margin-bottom: 4px;\n",
              "    }\n",
              "\n",
              "    [theme=dark] .colab-df-convert {\n",
              "      background-color: #3B4455;\n",
              "      fill: #D2E3FC;\n",
              "    }\n",
              "\n",
              "    [theme=dark] .colab-df-convert:hover {\n",
              "      background-color: #434B5C;\n",
              "      box-shadow: 0px 1px 3px 1px rgba(0, 0, 0, 0.15);\n",
              "      filter: drop-shadow(0px 1px 2px rgba(0, 0, 0, 0.3));\n",
              "      fill: #FFFFFF;\n",
              "    }\n",
              "  </style>\n",
              "\n",
              "    <script>\n",
              "      const buttonEl =\n",
              "        document.querySelector('#df-e4ba3449-64a7-41f3-b8b7-081bc1a989f6 button.colab-df-convert');\n",
              "      buttonEl.style.display =\n",
              "        google.colab.kernel.accessAllowed ? 'block' : 'none';\n",
              "\n",
              "      async function convertToInteractive(key) {\n",
              "        const element = document.querySelector('#df-e4ba3449-64a7-41f3-b8b7-081bc1a989f6');\n",
              "        const dataTable =\n",
              "          await google.colab.kernel.invokeFunction('convertToInteractive',\n",
              "                                                    [key], {});\n",
              "        if (!dataTable) return;\n",
              "\n",
              "        const docLinkHtml = 'Like what you see? Visit the ' +\n",
              "          '<a target=\"_blank\" href=https://colab.research.google.com/notebooks/data_table.ipynb>data table notebook</a>'\n",
              "          + ' to learn more about interactive tables.';\n",
              "        element.innerHTML = '';\n",
              "        dataTable['output_type'] = 'display_data';\n",
              "        await google.colab.output.renderOutput(dataTable, element);\n",
              "        const docLink = document.createElement('div');\n",
              "        docLink.innerHTML = docLinkHtml;\n",
              "        element.appendChild(docLink);\n",
              "      }\n",
              "    </script>\n",
              "  </div>\n",
              "\n",
              "\n",
              "    <div id=\"df-9f266478-200f-4921-9277-79e9682d838a\">\n",
              "      <button class=\"colab-df-quickchart\" onclick=\"quickchart('df-9f266478-200f-4921-9277-79e9682d838a')\"\n",
              "                title=\"Suggest charts\"\n",
              "                style=\"display:none;\">\n",
              "\n",
              "<svg xmlns=\"http://www.w3.org/2000/svg\" height=\"24px\"viewBox=\"0 0 24 24\"\n",
              "     width=\"24px\">\n",
              "    <g>\n",
              "        <path d=\"M19 3H5c-1.1 0-2 .9-2 2v14c0 1.1.9 2 2 2h14c1.1 0 2-.9 2-2V5c0-1.1-.9-2-2-2zM9 17H7v-7h2v7zm4 0h-2V7h2v10zm4 0h-2v-4h2v4z\"/>\n",
              "    </g>\n",
              "</svg>\n",
              "      </button>\n",
              "\n",
              "<style>\n",
              "  .colab-df-quickchart {\n",
              "      --bg-color: #E8F0FE;\n",
              "      --fill-color: #1967D2;\n",
              "      --hover-bg-color: #E2EBFA;\n",
              "      --hover-fill-color: #174EA6;\n",
              "      --disabled-fill-color: #AAA;\n",
              "      --disabled-bg-color: #DDD;\n",
              "  }\n",
              "\n",
              "  [theme=dark] .colab-df-quickchart {\n",
              "      --bg-color: #3B4455;\n",
              "      --fill-color: #D2E3FC;\n",
              "      --hover-bg-color: #434B5C;\n",
              "      --hover-fill-color: #FFFFFF;\n",
              "      --disabled-bg-color: #3B4455;\n",
              "      --disabled-fill-color: #666;\n",
              "  }\n",
              "\n",
              "  .colab-df-quickchart {\n",
              "    background-color: var(--bg-color);\n",
              "    border: none;\n",
              "    border-radius: 50%;\n",
              "    cursor: pointer;\n",
              "    display: none;\n",
              "    fill: var(--fill-color);\n",
              "    height: 32px;\n",
              "    padding: 0;\n",
              "    width: 32px;\n",
              "  }\n",
              "\n",
              "  .colab-df-quickchart:hover {\n",
              "    background-color: var(--hover-bg-color);\n",
              "    box-shadow: 0 1px 2px rgba(60, 64, 67, 0.3), 0 1px 3px 1px rgba(60, 64, 67, 0.15);\n",
              "    fill: var(--button-hover-fill-color);\n",
              "  }\n",
              "\n",
              "  .colab-df-quickchart-complete:disabled,\n",
              "  .colab-df-quickchart-complete:disabled:hover {\n",
              "    background-color: var(--disabled-bg-color);\n",
              "    fill: var(--disabled-fill-color);\n",
              "    box-shadow: none;\n",
              "  }\n",
              "\n",
              "  .colab-df-spinner {\n",
              "    border: 2px solid var(--fill-color);\n",
              "    border-color: transparent;\n",
              "    border-bottom-color: var(--fill-color);\n",
              "    animation:\n",
              "      spin 1s steps(1) infinite;\n",
              "  }\n",
              "\n",
              "  @keyframes spin {\n",
              "    0% {\n",
              "      border-color: transparent;\n",
              "      border-bottom-color: var(--fill-color);\n",
              "      border-left-color: var(--fill-color);\n",
              "    }\n",
              "    20% {\n",
              "      border-color: transparent;\n",
              "      border-left-color: var(--fill-color);\n",
              "      border-top-color: var(--fill-color);\n",
              "    }\n",
              "    30% {\n",
              "      border-color: transparent;\n",
              "      border-left-color: var(--fill-color);\n",
              "      border-top-color: var(--fill-color);\n",
              "      border-right-color: var(--fill-color);\n",
              "    }\n",
              "    40% {\n",
              "      border-color: transparent;\n",
              "      border-right-color: var(--fill-color);\n",
              "      border-top-color: var(--fill-color);\n",
              "    }\n",
              "    60% {\n",
              "      border-color: transparent;\n",
              "      border-right-color: var(--fill-color);\n",
              "    }\n",
              "    80% {\n",
              "      border-color: transparent;\n",
              "      border-right-color: var(--fill-color);\n",
              "      border-bottom-color: var(--fill-color);\n",
              "    }\n",
              "    90% {\n",
              "      border-color: transparent;\n",
              "      border-bottom-color: var(--fill-color);\n",
              "    }\n",
              "  }\n",
              "</style>\n",
              "\n",
              "      <script>\n",
              "        async function quickchart(key) {\n",
              "          const quickchartButtonEl =\n",
              "            document.querySelector('#' + key + ' button');\n",
              "          quickchartButtonEl.disabled = true;  // To prevent multiple clicks.\n",
              "          quickchartButtonEl.classList.add('colab-df-spinner');\n",
              "          try {\n",
              "            const charts = await google.colab.kernel.invokeFunction(\n",
              "                'suggestCharts', [key], {});\n",
              "          } catch (error) {\n",
              "            console.error('Error during call to suggestCharts:', error);\n",
              "          }\n",
              "          quickchartButtonEl.classList.remove('colab-df-spinner');\n",
              "          quickchartButtonEl.classList.add('colab-df-quickchart-complete');\n",
              "        }\n",
              "        (() => {\n",
              "          let quickchartButtonEl =\n",
              "            document.querySelector('#df-9f266478-200f-4921-9277-79e9682d838a button');\n",
              "          quickchartButtonEl.style.display =\n",
              "            google.colab.kernel.accessAllowed ? 'block' : 'none';\n",
              "        })();\n",
              "      </script>\n",
              "    </div>\n",
              "\n",
              "    </div>\n",
              "  </div>\n"
            ],
            "application/vnd.google.colaboratory.intrinsic+json": {
              "type": "dataframe",
              "variable_name": "data",
              "summary": "{\n  \"name\": \"data\",\n  \"rows\": 5572,\n  \"fields\": [\n    {\n      \"column\": \"label\",\n      \"properties\": {\n        \"dtype\": \"category\",\n        \"num_unique_values\": 2,\n        \"samples\": [\n          \"spam\",\n          \"ham\"\n        ],\n        \"semantic_type\": \"\",\n        \"description\": \"\"\n      }\n    },\n    {\n      \"column\": \"text\",\n      \"properties\": {\n        \"dtype\": \"object\",\n        \"semantic_type\": \"\",\n        \"description\": \"\"\n      }\n    }\n  ]\n}"
            }
          },
          "metadata": {},
          "execution_count": 40
        }
      ]
    },
    {
      "cell_type": "markdown",
      "source": [
        "1. INTEGER ENCODING\n",
        "2. PADDING / TRUNCATING WITH SAME SIZES\n",
        "3. MAKING DENSE EMBEDDINGS"
      ],
      "metadata": {
        "id": "DcSWqLIRHNHG"
      }
    },
    {
      "cell_type": "code",
      "source": [
        "## INTEGER ENCODING\n",
        "\n",
        "vocab = {}\n",
        "for sample in data[\"text\"]:\n",
        "  for word in sample:\n",
        "    if word not in vocab:\n",
        "      vocab[word] = len(vocab) + 2\n",
        "\n",
        "vocab[\"<PAD>\"] = 0\n",
        "vocab[\"<UNK>\"] = 1\n",
        "\n",
        "# Encode\n",
        "encoded_sentence = [\n",
        "    [vocab.get(word, vocab[\"<UNK>\"]) for word in sentence]\n",
        "    for sentence in data[\"text\"]\n",
        "]\n",
        "encoded_sentence[:3]"
      ],
      "metadata": {
        "colab": {
          "base_uri": "https://localhost:8080/"
        },
        "id": "DkSwox5JJGCT",
        "outputId": "24f998a2-f61c-460c-9a22-0871bce8a9ad"
      },
      "execution_count": 43,
      "outputs": [
        {
          "output_type": "execute_result",
          "data": {
            "text/plain": [
              "[[2, 3, 4, 5, 6, 7, 8, 9, 10, 11, 12, 13, 14, 15, 16, 17],\n",
              " [18, 19, 20, 21, 22, 23],\n",
              " [24,\n",
              "  25,\n",
              "  26,\n",
              "  27,\n",
              "  28,\n",
              "  29,\n",
              "  30,\n",
              "  31,\n",
              "  32,\n",
              "  33,\n",
              "  34,\n",
              "  35,\n",
              "  36,\n",
              "  37,\n",
              "  30,\n",
              "  38,\n",
              "  39,\n",
              "  25,\n",
              "  40,\n",
              "  41,\n",
              "  42,\n",
              "  43,\n",
              "  44,\n",
              "  45,\n",
              "  46]]"
            ]
          },
          "metadata": {},
          "execution_count": 43
        }
      ]
    },
    {
      "cell_type": "code",
      "source": [
        "## PADDING\n",
        "max_len = max(len(s) for s in encoded_sentence)\n",
        "\n",
        "def makeSameSize(sample, max_len=max_len):\n",
        "    if len(sample) < max_len:\n",
        "        sample = sample + [0] * (max_len - len(sample))  # padding\n",
        "    else:\n",
        "        sample = sample[:max_len]  # truncating\n",
        "    return sample"
      ],
      "metadata": {
        "id": "3NCV_-XKJgt_"
      },
      "execution_count": 50,
      "outputs": []
    },
    {
      "cell_type": "code",
      "source": [
        "encoded_sentences = [makeSameSize(sample) for sample in encoded_sentence]"
      ],
      "metadata": {
        "id": "ogN4S2hkKxUO"
      },
      "execution_count": 53,
      "outputs": []
    },
    {
      "cell_type": "markdown",
      "source": [
        "`embedded layers`\n",
        "* An embedding layer is a special kind of lookup table that maps discrete tokens (like words, represented as integers) to dense vectors of fixed size.\n",
        "Instead of feeding raw integer IDs to your model, you convert them into continuous vector representations that capture semantic meaning.\n",
        "* Instead of representing each word as a sparse one-hot vector like [0,1,0,0] for \"dog\", you have a dense vector capturing features/relationships.\n",
        "* These embeddings are learned during training, so the model finds numeric vectors that help it understand word meaning, similarity, etc.\n",
        "* Words with similiar context like CAT, DOG etc...end up having similiar meanings so that the model can generalize\n",
        "\n",
        "> ![image.png](data:image/png;base64,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)\n"
      ],
      "metadata": {
        "id": "W8QHJVNVLtaf"
      }
    },
    {
      "cell_type": "code",
      "source": [
        "import torch\n",
        "\n",
        "embedding_dim = 64\n",
        "vocab_size = len(vocab)  # your vocab dict size\n",
        "max_seq_length = 80\n",
        "\n",
        "encoded_sentences = torch.tensor(encoded_sentences, dtype=torch.long)\n",
        "embedding = torch.nn.Embedding(vocab_size, embedding_dim)\n",
        "embedded_output = embedding(encoded_sentences)\n",
        "print(embedded_output.shape)"
      ],
      "metadata": {
        "colab": {
          "base_uri": "https://localhost:8080/"
        },
        "id": "kJN5XKuhMfFn",
        "outputId": "f43af7fa-0831-456a-f5f1-0d8f862c4800"
      },
      "execution_count": 57,
      "outputs": [
        {
          "output_type": "stream",
          "name": "stdout",
          "text": [
            "torch.Size([5572, 80, 64])\n"
          ]
        },
        {
          "output_type": "stream",
          "name": "stderr",
          "text": [
            "/tmp/ipython-input-3690082532.py:7: UserWarning: To copy construct from a tensor, it is recommended to use sourceTensor.clone().detach() or sourceTensor.clone().detach().requires_grad_(True), rather than torch.tensor(sourceTensor).\n",
            "  encoded_sentences = torch.tensor(encoded_sentences, dtype=torch.long)\n"
          ]
        }
      ]
    },
    {
      "cell_type": "code",
      "source": [
        "embedded_output[:2]"
      ],
      "metadata": {
        "colab": {
          "base_uri": "https://localhost:8080/"
        },
        "id": "iswtP_BXNSnH",
        "outputId": "2e0c7ff7-0d16-41cc-af6a-0c6bfebc50d2"
      },
      "execution_count": 59,
      "outputs": [
        {
          "output_type": "execute_result",
          "data": {
            "text/plain": [
              "tensor([[[ 1.4722, -0.7266, -0.1344,  ..., -1.8562,  1.2703,  0.7231],\n",
              "         [ 1.8748, -0.2913, -0.4369,  ..., -0.7173, -2.2793,  1.0871],\n",
              "         [-0.4005, -0.9385, -2.2987,  ..., -0.0789, -0.1063, -0.3092],\n",
              "         ...,\n",
              "         [ 0.4654,  0.0986, -1.0384,  ..., -0.3417,  0.3620,  0.4672],\n",
              "         [ 0.4654,  0.0986, -1.0384,  ..., -0.3417,  0.3620,  0.4672],\n",
              "         [ 0.4654,  0.0986, -1.0384,  ..., -0.3417,  0.3620,  0.4672]],\n",
              "\n",
              "        [[-0.4959,  1.6843, -0.8733,  ..., -0.9610,  0.2662,  0.0224],\n",
              "         [-0.0184,  0.3878, -0.6423,  ..., -3.2998, -0.2421,  0.4463],\n",
              "         [-0.6705, -0.1776, -1.0715,  ...,  0.9490, -0.3057,  0.1203],\n",
              "         ...,\n",
              "         [ 0.4654,  0.0986, -1.0384,  ..., -0.3417,  0.3620,  0.4672],\n",
              "         [ 0.4654,  0.0986, -1.0384,  ..., -0.3417,  0.3620,  0.4672],\n",
              "         [ 0.4654,  0.0986, -1.0384,  ..., -0.3417,  0.3620,  0.4672]]],\n",
              "       grad_fn=<SliceBackward0>)"
            ]
          },
          "metadata": {},
          "execution_count": 59
        }
      ]
    },
    {
      "cell_type": "code",
      "source": [
        "len(embedded_output), len(data[\"label\"])"
      ],
      "metadata": {
        "colab": {
          "base_uri": "https://localhost:8080/"
        },
        "id": "ArhI3DTYN7XN",
        "outputId": "57388809-38f0-45de-ca9d-ac4c708b46f1"
      },
      "execution_count": 60,
      "outputs": [
        {
          "output_type": "execute_result",
          "data": {
            "text/plain": [
              "(5572, 5572)"
            ]
          },
          "metadata": {},
          "execution_count": 60
        }
      ]
    },
    {
      "cell_type": "markdown",
      "source": [
        "`LABELS`\n",
        "Now let's convert the labels into numeric"
      ],
      "metadata": {
        "id": "zgPlnc9SOAWb"
      }
    },
    {
      "cell_type": "code",
      "source": [
        "labels = data[\"label\"].map({\n",
        "    \"spam\":0,\n",
        "    \"ham\":1\n",
        "})\n",
        "labels = torch.tensor(labels, dtype=torch.int)\n",
        "labels"
      ],
      "metadata": {
        "colab": {
          "base_uri": "https://localhost:8080/"
        },
        "id": "qxTCipuPOGBs",
        "outputId": "3c698b2d-0d57-4653-b166-8f8f83378c8e"
      },
      "execution_count": 61,
      "outputs": [
        {
          "output_type": "execute_result",
          "data": {
            "text/plain": [
              "tensor([1, 1, 0,  ..., 1, 1, 1], dtype=torch.int32)"
            ]
          },
          "metadata": {},
          "execution_count": 61
        }
      ]
    },
    {
      "cell_type": "code",
      "source": [
        "print(type(embedded_output))\n",
        "print(type(labels))"
      ],
      "metadata": {
        "colab": {
          "base_uri": "https://localhost:8080/"
        },
        "id": "hvA0QGV4OiBh",
        "outputId": "2704344f-ae84-439b-8132-6ca80c9a8c23"
      },
      "execution_count": 62,
      "outputs": [
        {
          "output_type": "stream",
          "name": "stdout",
          "text": [
            "<class 'torch.Tensor'>\n",
            "<class 'torch.Tensor'>\n"
          ]
        }
      ]
    },
    {
      "cell_type": "code",
      "source": [
        "X = embedded_output\n",
        "y = labels"
      ],
      "metadata": {
        "id": "Ibwvd3QBOnxR"
      },
      "execution_count": 63,
      "outputs": []
    },
    {
      "cell_type": "code",
      "source": [],
      "metadata": {
        "id": "2lmlpXhPOtKs"
      },
      "execution_count": null,
      "outputs": []
    }
  ]
}